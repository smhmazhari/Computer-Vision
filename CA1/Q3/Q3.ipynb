{
 "cells": [
  {
   "cell_type": "markdown",
   "id": "a279b4eb",
   "metadata": {},
   "source": [
    "# Question 3 - JPEG Compression Analysis"
   ]
  },
  {
   "cell_type": "markdown",
   "id": "eaec1f22",
   "metadata": {},
   "source": [
    "\n",
    "### JFIF Header Information Explained\n",
    "\n",
    "When analyzing a JPEG file using PIL (Pillow), we can extract metadata through the `.info` attribute.  \n",
    "In this case, we received the following dictionary:\n",
    "\n",
    "```python\n",
    "{'jfif': 257, 'jfif_version': (1, 1), 'jfif_unit': 0, 'jfif_density': (1, 1)}\n",
    "```\n",
    "\n",
    "Let’s break down each item:\n",
    "\n",
    "- **`'jfif': 257`**  \n",
    "  This value indicates the presence of a JFIF (JPEG File Interchange Format) marker. The value itself is not directly meaningful but confirms the file follows the JFIF standard.\n",
    "\n",
    "- **`'jfif_version': (1, 1)`**  \n",
    "  Specifies the version of the JFIF format. Here it means version 1.1. The format was originally introduced as 1.0, and version 1.1 added optional features like thumbnails.\n",
    "\n",
    "- **`'jfif_unit': 0`**  \n",
    "  This describes the unit used for pixel density:\n",
    "  - `0` = No units, the density values are aspect ratio only\n",
    "  - `1` = Pixels per inch\n",
    "  - `2` = Pixels per centimeter\n",
    "\n",
    "- **`'jfif_density': (1, 1)`**  \n",
    "  This is the horizontal and vertical pixel density of the image. Since `jfif_unit = 0`, these values represent only the aspect ratio — in this case, 1:1 means square pixels.\n",
    "\n",
    "These values are part of JPEG metadata and are not related to image content, but useful for determining how the image should be displayed or printed.\n"
   ]
  },
  {
   "cell_type": "markdown",
   "id": "de339ebc",
   "metadata": {},
   "source": [
    "## Objective"
   ]
  },
  {
   "cell_type": "markdown",
   "id": "2e8da723",
   "metadata": {},
   "source": [
    "In this task, we aim to analyze the effects of JPEG compression on image size and quality. We take an RGB image and compress it using a low-quality JPEG format to observe the trade-off between file size and visual degradation."
   ]
  },
  {
   "cell_type": "markdown",
   "id": "0fcdb5e0",
   "metadata": {},
   "source": [
    "## Steps:"
   ]
  },
  {
   "cell_type": "markdown",
   "id": "20f8fc1d",
   "metadata": {},
   "source": [
    "1. Load a high-quality RGB image.\n",
    "2. Save the image as a JPEG with a reduced quality setting (quality=30).\n",
    "3. Re-open the compressed image and extract metadata such as format, size, color mode, and header info.\n",
    "4. Calculate the approximate number of bits per pixel to evaluate the compression level.\n",
    "5. Interpret the results to assess the effectiveness and impact of JPEG compression."
   ]
  },
  {
   "cell_type": "markdown",
   "id": "0837cde7",
   "metadata": {},
   "source": [
    "## Conclusion"
   ]
  },
  {
   "cell_type": "markdown",
   "id": "a1e6f084",
   "metadata": {},
   "source": [
    "- **Format**: JPEG confirms successful compression.\n",
    "- **Image Dimensions**: 1141 × 2028, resulting in about 2.3 million pixels.\n",
    "- **Color Mode**: RGB means each pixel stores 3 color values.\n",
    "- **Header Info**: Contains standard JPEG JFIF metadata.\n",
    "- **Bits per Pixel**: ~0.41 bits per pixel shows extremely high compression.\n",
    "\n",
    "### Analysis:\n",
    "- Normally, an RGB image stores 24 bits per pixel (8 bits for each R, G, B).\n",
    "- This image has been compressed to only 0.41 bpp, reducing file size dramatically.\n",
    "- Despite this extreme compression, the visual quality remains high because:\n",
    "  - JPEG removes perceptually less important details.\n",
    "  - It works well on smooth areas and common image types like human faces.\n",
    "  - The human brain compensates for minor losses in detail.\n",
    "- Therefore, even at low quality, JPEG can be very efficient without noticeably degrading appearance."
   ]
  },
  {
   "cell_type": "code",
   "execution_count": 1,
   "id": "3a341b51",
   "metadata": {},
   "outputs": [
    {
     "name": "stdout",
     "output_type": "stream",
     "text": [
      "Format: JPEG\n",
      "Size: (1141, 2028)\n",
      "Mode: RGB\n",
      "Header Info: {'jfif': 257, 'jfif_version': (1, 1), 'jfif_unit': 0, 'jfif_density': (1, 1)}\n",
      "Approximate bits per pixel: 0.41\n",
      "Compression Type: Lossy Compression (JPEG)\n"
     ]
    }
   ],
   "source": [
    "\n",
    "from PIL import Image\n",
    "import os\n",
    "\n",
    "# Load the already compressed JPEG image\n",
    "compressed = Image.open(\"compressed.jpg\")\n",
    "\n",
    "# Display image info\n",
    "print(\"Format:\", compressed.format)\n",
    "print(\"Size:\", compressed.size)\n",
    "print(\"Mode:\", compressed.mode)\n",
    "print(\"Header Info:\", compressed.info)\n",
    "\n",
    "# Calculate approximate bits per pixel\n",
    "size_bytes = os.path.getsize(\"compressed.jpg\")\n",
    "pixel_count = compressed.size[0] * compressed.size[1]\n",
    "bits_per_pixel = (size_bytes * 8) / pixel_count\n",
    "print(f\"Approximate bits per pixel: {bits_per_pixel:.2f}\")\n",
    "if compressed.format == 'JPEG':\n",
    "    print(\"Compression Type: Lossy Compression (JPEG)\")\n",
    "elif compressed.format == 'PNG':\n",
    "    print(\"Compression Type: Lossless Compression (PNG)\")\n",
    "else:\n",
    "    print(\"Compression Type: Unknown or Uncompressed\")\n"
   ]
  }
 ],
 "metadata": {
  "kernelspec": {
   "display_name": "Python 3",
   "language": "python",
   "name": "python3"
  },
  "language_info": {
   "codemirror_mode": {
    "name": "ipython",
    "version": 3
   },
   "file_extension": ".py",
   "mimetype": "text/x-python",
   "name": "python",
   "nbconvert_exporter": "python",
   "pygments_lexer": "ipython3",
   "version": "3.13.0"
  }
 },
 "nbformat": 4,
 "nbformat_minor": 5
}
