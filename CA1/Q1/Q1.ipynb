{
 "cells": [
  {
   "cell_type": "markdown",
   "id": "ad0795f2",
   "metadata": {},
   "source": [
    "# Question 1 - Manual RGB Image and Histogram Analysis"
   ]
  },
  {
   "cell_type": "markdown",
   "id": "f3140fb3",
   "metadata": {},
   "source": [
    "## Objective"
   ]
  },
  {
   "cell_type": "markdown",
   "id": "014f35a1",
   "metadata": {},
   "source": [
    "In this task, we manually create a synthetic RGB image using NumPy arrays. Then, we analyze its color composition by splitting it into individual R, G, and B channels and plotting their histograms."
   ]
  },
  {
   "cell_type": "markdown",
   "id": "5d2b556d",
   "metadata": {},
   "source": [
    "## Steps"
   ]
  },
  {
   "cell_type": "markdown",
   "id": "44d2d37a",
   "metadata": {},
   "source": [
    "1. Generate a simple image with custom RGB values.\n",
    "2. Separate the image into R, G, B channels.\n",
    "3. Calculate the mean intensity of each channel.\n",
    "4. Plot the histogram for each channel.\n"
   ]
  },
  {
   "cell_type": "markdown",
   "id": "3852446c",
   "metadata": {},
   "source": [
    "## Purpose"
   ]
  },
  {
   "cell_type": "markdown",
   "id": "2899edac",
   "metadata": {},
   "source": [
    "- The histograms reveal the pixel intensity distribution for each channel.\n",
    "- Comparing the mean values helps identify the dominant color in the image."
   ]
  },
  {
   "cell_type": "markdown",
   "id": "9f4366cb",
   "metadata": {},
   "source": [
    "## Conclusion"
   ]
  },
  {
   "cell_type": "markdown",
   "id": "8f81e508",
   "metadata": {},
   "source": [
    "- Based on the channel means and histogram distribution, we determine the dominant color.\n",
    "- This task helps us understand how RGB channels contribute to image formation."
   ]
  },
  {
   "cell_type": "markdown",
   "id": "9a4d240d",
   "metadata": {},
   "source": [
    "## Note:\n",
    " In this question, all image processing operations were implemented from scratch using only NumPy and Pillow libraries (for basic image I/O). No high-level computer vision libraries (such as OpenCV or Scikit-Image) were used. "
   ]
  },
  {
   "cell_type": "code",
   "execution_count": 2,
   "id": "6c453f72",
   "metadata": {},
   "outputs": [],
   "source": [
    "from PIL import Image\n",
    "import numpy as np\n",
    "import matplotlib.pyplot as plt\n",
    "\n",
    "img = Image.open(\"sample_face.png\")\n",
    "img_np = np.array(img)\n",
    "\n",
    "\n",
    "gray = np.dot(img_np[..., :3], [0.2989, 0.5870, 0.1140]).astype(np.uint8)\n",
    "Image.fromarray(gray).save(\"gray.jpg\")\n",
    "\n",
    "\n",
    "binary = (gray > 128).astype(np.uint8) * 255\n",
    "Image.fromarray(binary).save(\"binary.jpg\")\n",
    "\n",
    "\n",
    "median_val = np.median(gray)\n",
    "contrast_inc = np.clip(1.5 * (gray - median_val) + median_val, 0, 255).astype(np.uint8)\n",
    "contrast_dec = np.clip(0.5 * (gray - median_val) + median_val, 0, 255).astype(np.uint8)\n",
    "Image.fromarray(contrast_inc).save(\"contrast_inc.jpg\")\n",
    "Image.fromarray(contrast_dec).save(\"contrast_dec.jpg\")\n",
    "\n",
    "\n",
    "bright = np.clip(gray + 20, 0, 255).astype(np.uint8)\n",
    "Image.fromarray(bright).save(\"bright_plus20.jpg\")\n",
    "\n",
    "\n",
    "def salt_pepper_noise(image, prob=0.02):\n",
    "    noisy = image.copy()\n",
    "    num_salt = int(prob * image.size * 0.5)\n",
    "    num_pepper = int(prob * image.size * 0.5)\n",
    "    coords_salt = [np.random.randint(0, i - 1, num_salt) for i in image.shape]\n",
    "    coords_pepper = [np.random.randint(0, i - 1, num_pepper) for i in image.shape]\n",
    "    noisy[tuple(coords_salt)] = 255\n",
    "    noisy[tuple(coords_pepper)] = 0\n",
    "    return noisy\n",
    "\n",
    "noisy = salt_pepper_noise(gray)\n",
    "Image.fromarray(noisy).save(\"salt_pepper.jpg\")"
   ]
  }
 ],
 "metadata": {
  "kernelspec": {
   "display_name": "Python 3",
   "language": "python",
   "name": "python3"
  },
  "language_info": {
   "codemirror_mode": {
    "name": "ipython",
    "version": 3
   },
   "file_extension": ".py",
   "mimetype": "text/x-python",
   "name": "python",
   "nbconvert_exporter": "python",
   "pygments_lexer": "ipython3",
   "version": "3.13.0"
  }
 },
 "nbformat": 4,
 "nbformat_minor": 5
}
