{
 "cells": [
  {
   "cell_type": "markdown",
   "id": "98494e7d",
   "metadata": {},
   "source": [
    "# Question 4 - Basic Face Detection from Image"
   ]
  },
  {
   "cell_type": "markdown",
   "id": "6195d0a1",
   "metadata": {},
   "source": [
    "## Objective"
   ]
  },
  {
   "cell_type": "markdown",
   "id": "2b33ff77",
   "metadata": {},
   "source": [
    "To apply simple image processing techniques for identifying faces in real-world images using grayscale transformation and intensity analysis."
   ]
  },
  {
   "cell_type": "markdown",
   "id": "cd490589",
   "metadata": {},
   "source": [
    "## Steps"
   ]
  },
  {
   "cell_type": "markdown",
   "id": "30c6f675",
   "metadata": {},
   "source": [
    "1. Convert real-world color image to grayscale.\n",
    "2. Use thresholding or basic filters to identify facial regions.\n",
    "3. Visualize and analyze histogram of the grayscale image.\n"
   ]
  },
  {
   "cell_type": "markdown",
   "id": "4888d508",
   "metadata": {},
   "source": [
    "## Notes"
   ]
  },
  {
   "cell_type": "markdown",
   "id": "4507c458",
   "metadata": {},
   "source": [
    "- While deep learning (e.g., Haar Cascades or CNNs) is better, this task emphasizes classical image analysis.\n"
   ]
  },
  {
   "cell_type": "markdown",
   "id": "a66c8014",
   "metadata": {},
   "source": [
    "## Conclusion"
   ]
  },
  {
   "cell_type": "markdown",
   "id": "3da5ef67",
   "metadata": {},
   "source": [
    "In this question, the algorithm used is Normalized Cross-Correlation (NCC) for template matching.\n",
    "\n",
    "Explanation:\n",
    "- NCC measures the similarity between two images by computing the dot product of their normalized versions.\n",
    "- First, the mean value of each image is subtracted to center the data around zero.\n",
    "- Then, the dot product between the template and target image is calculated.\n",
    "- This value is divided by the product of the Euclidean norms (magnitudes) of both images.\n",
    "- The resulting score ranges from -1 to 1, where 1 indicates a perfect match, 0 means no correlation, and -1 means perfect negative correlation.\n",
    "- In this project, the first image (reference face) is compared against the other three images to compute their similarity scores.\n",
    "\n",
    "This method is simple, effective, and works well for template matching under slight changes in illumination and minor misalignments.\n"
   ]
  },
  {
   "cell_type": "markdown",
   "id": "97040861",
   "metadata": {},
   "source": [
    "- Grayscale conversion and thresholding give approximate face regions.\n",
    "- Histogram helps analyze brightness distribution, useful for adaptive thresholding."
   ]
  },
  {
   "cell_type": "markdown",
   "id": "f484439b",
   "metadata": {},
   "source": [
    "## Note:\n",
    " In this task, the template matching algorithm was implemented manually from scratch using only NumPy and Pillow for basic image loading. No high-level computer vision libraries such as OpenCV or Scikit-Image were used. Therefore, this implementation is eligible for the extra 30% bonus as mentioned in the assignment instructions.\n"
   ]
  },
  {
   "cell_type": "code",
   "execution_count": null,
   "id": "b35939ec",
   "metadata": {},
   "outputs": [
    {
     "name": "stdout",
     "output_type": "stream",
     "text": [
      "Similarity face_1 vs face_2: 0.7189\n",
      "Similarity face_1 vs face_3: 0.7065\n",
      "Similarity face_1 vs face_4: 0.5269\n"
     ]
    }
   ],
   "source": [
    "from PIL import Image\n",
    "import numpy as np\n",
    "\n",
    "\n",
    "img_paths = [\"1_1.jpg\", \"2_1.jpg\", \"3_1.jpg\", \"4_1.jpg\"]\n",
    "imgs = [Image.open(p).convert(\"L\").resize((128, 128)) for p in img_paths]\n",
    "\n",
    "\n",
    "for i, im in enumerate(imgs):\n",
    "    im.save(f\"face_{i+1}.jpg\")\n",
    "\n",
    "\n",
    "def normalized_cross_correlation(template, target):\n",
    "    template = template - np.mean(template)\n",
    "    target = target - np.mean(target)\n",
    "    num = np.sum(template * target)\n",
    "    den = np.sqrt(np.sum(template**2) * np.sum(target**2))\n",
    "    return num / den if den != 0 else 0\n",
    "\n",
    "template = np.array(imgs[0])\n",
    "for i in range(1, 4):\n",
    "    target = np.array(imgs[i])\n",
    "    score = normalized_cross_correlation(template, target)\n",
    "    print(f\"Similarity face_1 vs face_{i+1}: {score:.4f}\")"
   ]
  }
 ],
 "metadata": {
  "kernelspec": {
   "display_name": "Python 3",
   "language": "python",
   "name": "python3"
  },
  "language_info": {
   "codemirror_mode": {
    "name": "ipython",
    "version": 3
   },
   "file_extension": ".py",
   "mimetype": "text/x-python",
   "name": "python",
   "nbconvert_exporter": "python",
   "pygments_lexer": "ipython3",
   "version": "3.13.0"
  }
 },
 "nbformat": 4,
 "nbformat_minor": 5
}
