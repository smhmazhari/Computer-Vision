{
 "cells": [
  {
   "cell_type": "markdown",
   "id": "8168c06a",
   "metadata": {},
   "source": [
    "# Question 5 - Brain Tumor Detection in MRI"
   ]
  },
  {
   "cell_type": "markdown",
   "id": "19a80e0e",
   "metadata": {},
   "source": [
    "## Objective"
   ]
  },
  {
   "cell_type": "markdown",
   "id": "b2253847",
   "metadata": {},
   "source": [
    "Analyze brain MRI images to detect lesions using histogram analysis and image processing."
   ]
  },
  {
   "cell_type": "markdown",
   "id": "9d8638d4",
   "metadata": {},
   "source": [
    "## Part 1: Histogram Matching of Left and Right Hemispheres"
   ]
  },
  {
   "cell_type": "markdown",
   "id": "896b3e59",
   "metadata": {},
   "source": [
    "### Steps"
   ]
  },
  {
   "cell_type": "markdown",
   "id": "8d5d6d26",
   "metadata": {},
   "source": [
    "1. Split each MRI image into left and right halves.\n",
    "2. Compute and plot histograms for both halves.\n",
    "3. Calculate a similarity metric (e.g., histogram intersection or difference).\n",
    "4. Set a threshold to determine anomaly based on histogram mismatch."
   ]
  },
  {
   "cell_type": "markdown",
   "id": "fdcb2f43",
   "metadata": {},
   "source": [
    "## Part 2: Tumor Localization Algorithm"
   ]
  },
  {
   "cell_type": "markdown",
   "id": "483ffffe",
   "metadata": {},
   "source": [
    "### Method Used: Image Subtraction + Thresholding"
   ]
  },
  {
   "cell_type": "markdown",
   "id": "ea86cae8",
   "metadata": {},
   "source": [
    "- Subtract the left half from the right.\n",
    "- Apply thresholding to highlight regions with large intensity difference.\n",
    "- This marks the area as potentially abnormal."
   ]
  },
  {
   "cell_type": "markdown",
   "id": "8e34faf3",
   "metadata": {},
   "source": [
    "## Conclusion"
   ]
  },
  {
   "cell_type": "markdown",
   "id": "039b495a",
   "metadata": {},
   "source": [
    "- Histogram difference helps flag asymmetry (a sign of lesion).\n",
    "- Simple subtraction-based segmentation localizes potential tumor regions effectively in symmetric MRI slices."
   ]
  },
  {
   "cell_type": "markdown",
   "id": "a0bc7221",
   "metadata": {},
   "source": [
    "## Algorithm\n",
    "In this question, the left and right hemispheres of each MRI image were separated manually. \n",
    "Histograms were computed for both hemispheres using NumPy, and the absolute difference between the two histograms was calculated.\n",
    "If the total difference exceeded a predefined threshold (0.15), the image was classified as having a potential lesion.\n",
    "Otherwise, it was considered normal. This simple yet effective method allows detecting asymmetries that may indicate abnormalities.\n",
    "\n"
   ]
  },
  {
   "cell_type": "markdown",
   "id": "434549c6",
   "metadata": {},
   "source": [
    "## Note:\n",
    "All operations, including histogram computation and comparison, were implemented from scratch using only NumPy and Pillow. \n",
    "No high-level image processing libraries were used, making this solution eligible for the extra 30% bonus according to the assignment instructions.\n"
   ]
  },
  {
   "cell_type": "code",
   "execution_count": 1,
   "id": "bccdcf9d",
   "metadata": {},
   "outputs": [
    {
     "name": "stdout",
     "output_type": "stream",
     "text": [
      "MRI_1: diff = 0.1262 -> Normal\n",
      "MRI_2: diff = 0.1373 -> Normal\n",
      "MRI_3: diff = 0.1431 -> Normal\n",
      "MRI_4: diff = 0.1410 -> Normal\n",
      "MRI_5: diff = 0.1378 -> Normal\n",
      "MRI_6: diff = 0.1121 -> Normal\n",
      "MRI_7: diff = 0.0997 -> Normal\n",
      "MRI_8: diff = 0.2054 -> Lesion Detected\n"
     ]
    }
   ],
   "source": [
    "from PIL import Image\n",
    "import numpy as np\n",
    "import matplotlib.pyplot as plt\n",
    "\n",
    "\n",
    "mri_paths = [f\"{i}.jpg\" if i != 8 else \"8.jpg\" for i in range(1, 9)]\n",
    "mri_imgs = [Image.open(p).convert(\"L\").resize((256, 256)) for p in mri_paths]\n",
    "\n",
    "def hist_diff_left_right(img_array):\n",
    "    h, w = img_array.shape\n",
    "    left = img_array[:, :w//2]\n",
    "    right = img_array[:, w//2:]\n",
    "    hist_left, _ = np.histogram(left, bins=256, range=(0, 256), density=True)\n",
    "    hist_right, _ = np.histogram(right, bins=256, range=(0, 256), density=True)\n",
    "    diff = np.abs(hist_left - hist_right).sum()\n",
    "    return diff\n",
    "\n",
    "\n",
    "threshold = 0.15\n",
    "for i, img in enumerate(mri_imgs):\n",
    "    arr = np.array(img)\n",
    "    diff = hist_diff_left_right(arr)\n",
    "    status = \"Lesion Detected\" if diff > threshold else \"Normal\"\n",
    "    print(f\"MRI_{i+1}: diff = {diff:.4f} -> {status}\")"
   ]
  }
 ],
 "metadata": {
  "kernelspec": {
   "display_name": "Python 3",
   "language": "python",
   "name": "python3"
  },
  "language_info": {
   "codemirror_mode": {
    "name": "ipython",
    "version": 3
   },
   "file_extension": ".py",
   "mimetype": "text/x-python",
   "name": "python",
   "nbconvert_exporter": "python",
   "pygments_lexer": "ipython3",
   "version": "3.13.0"
  }
 },
 "nbformat": 4,
 "nbformat_minor": 5
}
