{
 "cells": [
  {
   "cell_type": "markdown",
   "id": "e0329c47",
   "metadata": {},
   "source": [
    "# Question 2 - Color Decomposition, Histograms, and Frequency Analysis"
   ]
  },
  {
   "cell_type": "markdown",
   "id": "8d6f8e6b",
   "metadata": {},
   "source": [
    "## Objective"
   ]
  },
  {
   "cell_type": "markdown",
   "id": "97585cd2",
   "metadata": {},
   "source": [
    "In this task, we analyze a color image by converting it to different color models and applying histogram analysis and Fourier Transform."
   ]
  },
  {
   "cell_type": "markdown",
   "id": "c40eb891",
   "metadata": {},
   "source": [
    "## Steps"
   ]
  },
  {
   "cell_type": "markdown",
   "id": "75721016",
   "metadata": {},
   "source": [
    "1. **Channel Decomposition**:\n",
    "   - RGB: Split into R, G, B channels.\n",
    "   - CMY or YCbCr: Derived using transformations from RGB.\n",
    "2. **Convert to Grayscale**\n",
    "3. **Plot Histograms**:\n",
    "   - RGB Histogram to observe per-color intensity.\n",
    "   - Grayscale Histogram to observe brightness spread.\n",
    "4. **Histogram Equalization** on grayscale image.\n",
    "5. **Fourier Transform** to analyze frequency content.\n"
   ]
  },
  {
   "cell_type": "markdown",
   "id": "b676b48b",
   "metadata": {},
   "source": [
    "## Purpose"
   ]
  },
  {
   "cell_type": "markdown",
   "id": "338f07ff",
   "metadata": {},
   "source": [
    "- Histogram Equalization improves contrast.\n",
    "- Fourier Transform shows spatial frequency components."
   ]
  },
  {
   "cell_type": "markdown",
   "id": "7e06d670",
   "metadata": {},
   "source": [
    "## Conclusion"
   ]
  },
  {
   "cell_type": "markdown",
   "id": "dd7770cf",
   "metadata": {},
   "source": [
    "- RGB and grayscale histograms show different contrast properties.\n",
    "- Equalization balances pixel intensity.\n",
    "- The Fourier spectrum reveals dominant spatial frequencies (central bright region = low frequency)."
   ]
  },
  {
   "cell_type": "markdown",
   "id": "48bce02b",
   "metadata": {},
   "source": [
    "## Note: \n",
    "In this question, all processing steps such as color channel extraction, grayscale conversion, histogram calculation, histogram equalization, and Fourier transform were implemented manually from scratch using only NumPy, Pillow, and Matplotlib. No high-level computer vision libraries were used, making this solution eligible for the 30% bonus according to the assignment guidelines.\n"
   ]
  },
  {
   "cell_type": "code",
   "execution_count": 3,
   "id": "9d648b3f",
   "metadata": {},
   "outputs": [],
   "source": [
    "\n",
    "from PIL import Image\n",
    "import numpy as np\n",
    "import matplotlib.pyplot as plt\n",
    "\n",
    "\n",
    "img = Image.open(\"../Q1/sample_face.png\").convert(\"RGB\")\n",
    "img_np = np.array(img)\n",
    "\n",
    "\n",
    "r, g, b = img_np[:, :, 0], img_np[:, :, 1], img_np[:, :, 2]\n",
    "Image.fromarray(r).save(\"R_channel.jpg\")\n",
    "Image.fromarray(g).save(\"G_channel.jpg\")\n",
    "Image.fromarray(b).save(\"B_channel.jpg\")\n",
    "\n",
    "\n",
    "c = 255 - r\n",
    "m = 255 - g\n",
    "y = 255 - b\n",
    "Image.fromarray(c).save(\"C_channel.jpg\")\n",
    "Image.fromarray(m).save(\"M_channel.jpg\")\n",
    "Image.fromarray(y).save(\"Y_channel.jpg\")\n",
    "\n",
    "\n",
    "gray = np.dot(img_np[..., :3], [0.2989, 0.5870, 0.1140]).astype(np.uint8)\n",
    "Image.fromarray(gray).save(\"gray.jpg\")\n",
    "\n",
    "\n",
    "plt.figure()\n",
    "for channel, color in zip([r, g, b], ['red', 'green', 'blue']):\n",
    "    plt.hist(channel.ravel(), bins=256, alpha=0.5, color=color)\n",
    "plt.title(\"RGB Histogram\")\n",
    "plt.xlabel(\"Intensity\")\n",
    "plt.ylabel(\"Frequency\")\n",
    "plt.savefig(\"hist_rgb.jpg\")\n",
    "plt.close()\n",
    "\n",
    "\n",
    "plt.figure()\n",
    "plt.hist(gray.ravel(), bins=256, color='gray')\n",
    "plt.title(\"Gray Histogram\")\n",
    "plt.xlabel(\"Intensity\")\n",
    "plt.ylabel(\"Frequency\")\n",
    "plt.savefig(\"hist_gray.jpg\")\n",
    "plt.close()\n",
    "\n",
    "\n",
    "hist, _ = np.histogram(gray.flatten(), bins=256, range=[0, 256])\n",
    "cdf = hist.cumsum()\n",
    "cdf_masked = np.ma.masked_equal(cdf, 0)\n",
    "cdf_scaled = (cdf_masked - cdf_masked.min()) * 255 / (cdf_masked.max() - cdf_masked.min())\n",
    "cdf_final = np.ma.filled(cdf_scaled, 0).astype('uint8')\n",
    "gray_eq = cdf_final[gray]\n",
    "Image.fromarray(gray_eq).save(\"equalized.jpg\")\n",
    "\n",
    "plt.figure()\n",
    "plt.hist(gray_eq.ravel(), bins=256, color='black')\n",
    "plt.title(\"Equalized Gray Histogram\")\n",
    "plt.xlabel(\"Intensity\")\n",
    "plt.ylabel(\"Frequency\")\n",
    "plt.savefig(\"hist_eq_gray.jpg\")\n",
    "plt.close()\n",
    "\n",
    "\n",
    "f = np.fft.fft2(gray)\n",
    "fshift = np.fft.fftshift(f)\n",
    "magnitude = 20 * np.log(np.abs(fshift) + 1)\n",
    "\n",
    "plt.figure()\n",
    "plt.imshow(magnitude, cmap='gray')\n",
    "plt.title(\"Fourier Transform Spectrum\")\n",
    "plt.axis('off')\n",
    "plt.savefig(\"fft_gray.jpg\")\n",
    "plt.close()\n"
   ]
  }
 ],
 "metadata": {
  "kernelspec": {
   "display_name": "Python 3",
   "language": "python",
   "name": "python3"
  },
  "language_info": {
   "codemirror_mode": {
    "name": "ipython",
    "version": 3
   },
   "file_extension": ".py",
   "mimetype": "text/x-python",
   "name": "python",
   "nbconvert_exporter": "python",
   "pygments_lexer": "ipython3",
   "version": "3.13.0"
  }
 },
 "nbformat": 4,
 "nbformat_minor": 5
}
